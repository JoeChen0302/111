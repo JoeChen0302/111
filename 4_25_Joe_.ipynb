{
  "nbformat": 4,
  "nbformat_minor": 0,
  "metadata": {
    "colab": {
      "provenance": [],
      "include_colab_link": true
    },
    "kernelspec": {
      "name": "python3",
      "display_name": "Python 3"
    },
    "language_info": {
      "name": "python"
    }
  },
  "cells": [
    {
      "cell_type": "markdown",
      "metadata": {
        "id": "view-in-github",
        "colab_type": "text"
      },
      "source": [
        "<a href=\"https://colab.research.google.com/github/JoeChen0302/111/blob/main/4_25_Joe_.ipynb\" target=\"_parent\"><img src=\"https://colab.research.google.com/assets/colab-badge.svg\" alt=\"Open In Colab\"/></a>"
      ]
    },
    {
      "cell_type": "code",
      "execution_count": null,
      "metadata": {
        "colab": {
          "base_uri": "https://localhost:8080/"
        },
        "id": "MYP6Y4mqIl-4",
        "outputId": "302337ae-73a7-4456-e0d5-50c9e6781689"
      },
      "outputs": [
        {
          "output_type": "stream",
          "name": "stdout",
          "text": [
            "Hello, Linguistics\n"
          ]
        }
      ],
      "source": [
        "print(\"Hello, Linguistics\")"
      ]
    },
    {
      "cell_type": "code",
      "source": [
        "#Variable\n",
        "a=2#number\n",
        "b=3\n",
        "c=\"Hello\" #string\n",
        "\n",
        "test_words=\".....vvv\""
      ],
      "metadata": {
        "id": "GYjTLjonJEMc"
      },
      "execution_count": null,
      "outputs": []
    },
    {
      "cell_type": "code",
      "source": [
        "print(a+b)"
      ],
      "metadata": {
        "colab": {
          "base_uri": "https://localhost:8080/"
        },
        "id": "g_WTKOfbJk3j",
        "outputId": "0b61b10c-8aa3-4650-9747-883de50641da"
      },
      "execution_count": null,
      "outputs": [
        {
          "output_type": "stream",
          "name": "stdout",
          "text": [
            "5\n"
          ]
        }
      ]
    },
    {
      "cell_type": "code",
      "source": [
        "c=\"Hello\"\n",
        "d=\"world\"\n",
        "\n",
        "print(c+\" \"+d)"
      ],
      "metadata": {
        "colab": {
          "base_uri": "https://localhost:8080/"
        },
        "id": "6FRR67QqJsPD",
        "outputId": "8d993412-efd5-4115-dd08-6ac6c77e43dd"
      },
      "execution_count": null,
      "outputs": [
        {
          "output_type": "stream",
          "name": "stdout",
          "text": [
            "Hello world\n"
          ]
        }
      ]
    }
  ]
}